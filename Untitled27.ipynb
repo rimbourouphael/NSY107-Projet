{
  "nbformat": 4,
  "nbformat_minor": 0,
  "metadata": {
    "colab": {
      "name": "Untitled27.ipynb",
      "provenance": [],
      "collapsed_sections": []
    },
    "kernelspec": {
      "name": "python3",
      "display_name": "Python 3"
    }
  },
  "cells": [
    {
      "cell_type": "code",
      "metadata": {
        "id": "cSnO3Qe3Im-q"
      },
      "source": [
        "# https://medium.com/datadriveninvestor/hyperparameter-tuning-with-deep-learning-grid-search-8630aa45b2da\n",
        "import pandas as pd\n",
        "import numpy as np\n",
        "import keras"
      ],
      "execution_count": null,
      "outputs": []
    },
    {
      "cell_type": "code",
      "metadata": {
        "colab": {
          "base_uri": "https://localhost:8080/"
        },
        "id": "K3G_v8geI5Q8",
        "outputId": "5e36f6fd-efb8-43e8-f533-018854e07b65"
      },
      "source": [
        "# Reading the file\n",
        "df = pd.read_csv('/content/sample_data/CPU_INFO_1.csv')\n",
        "df.shape "
      ],
      "execution_count": null,
      "outputs": [
        {
          "output_type": "execute_result",
          "data": {
            "text/plain": [
              "(26680, 10)"
            ]
          },
          "metadata": {
            "tags": []
          },
          "execution_count": 2
        }
      ]
    },
    {
      "cell_type": "code",
      "metadata": {
        "colab": {
          "base_uri": "https://localhost:8080/",
          "height": 317
        },
        "id": "HfbwMPkEI5UU",
        "outputId": "e6b1e8ba-b753-4a70-f99c-4f1cdcba7d0f"
      },
      "source": [
        "# Prints columns of ‘df’\n",
        "df.columns \n",
        "\n",
        "# Displays properties of each column\n",
        "df.describe() "
      ],
      "execution_count": null,
      "outputs": [
        {
          "output_type": "execute_result",
          "data": {
            "text/html": [
              "<div>\n",
              "<style scoped>\n",
              "    .dataframe tbody tr th:only-of-type {\n",
              "        vertical-align: middle;\n",
              "    }\n",
              "\n",
              "    .dataframe tbody tr th {\n",
              "        vertical-align: top;\n",
              "    }\n",
              "\n",
              "    .dataframe thead th {\n",
              "        text-align: right;\n",
              "    }\n",
              "</style>\n",
              "<table border=\"1\" class=\"dataframe\">\n",
              "  <thead>\n",
              "    <tr style=\"text-align: right;\">\n",
              "      <th></th>\n",
              "      <th>sample_no</th>\n",
              "      <th>pid</th>\n",
              "      <th>ppid</th>\n",
              "      <th>cpu_children_sys</th>\n",
              "      <th>cpu_children_user</th>\n",
              "      <th>cpu_user</th>\n",
              "      <th>cpu_sys</th>\n",
              "      <th>cpu_percent</th>\n",
              "      <th>cpu_num</th>\n",
              "      <th>label</th>\n",
              "    </tr>\n",
              "  </thead>\n",
              "  <tbody>\n",
              "    <tr>\n",
              "      <th>count</th>\n",
              "      <td>2.668000e+04</td>\n",
              "      <td>26680.000000</td>\n",
              "      <td>26680.000000</td>\n",
              "      <td>26680.000000</td>\n",
              "      <td>26680.000000</td>\n",
              "      <td>26680.000000</td>\n",
              "      <td>26680.000000</td>\n",
              "      <td>26680.000000</td>\n",
              "      <td>26680.000000</td>\n",
              "      <td>26680.000000</td>\n",
              "    </tr>\n",
              "    <tr>\n",
              "      <th>mean</th>\n",
              "      <td>2.099997e+07</td>\n",
              "      <td>491.385870</td>\n",
              "      <td>133.710945</td>\n",
              "      <td>0.020417</td>\n",
              "      <td>0.032501</td>\n",
              "      <td>0.033958</td>\n",
              "      <td>0.019750</td>\n",
              "      <td>0.398175</td>\n",
              "      <td>0.689505</td>\n",
              "      <td>0.642654</td>\n",
              "    </tr>\n",
              "    <tr>\n",
              "      <th>std</th>\n",
              "      <td>7.701997e+03</td>\n",
              "      <td>589.953581</td>\n",
              "      <td>379.945151</td>\n",
              "      <td>0.257274</td>\n",
              "      <td>0.558574</td>\n",
              "      <td>0.122610</td>\n",
              "      <td>0.085469</td>\n",
              "      <td>1.436041</td>\n",
              "      <td>0.462705</td>\n",
              "      <td>0.479227</td>\n",
              "    </tr>\n",
              "    <tr>\n",
              "      <th>min</th>\n",
              "      <td>2.098663e+07</td>\n",
              "      <td>1.000000</td>\n",
              "      <td>0.000000</td>\n",
              "      <td>0.000000</td>\n",
              "      <td>0.000000</td>\n",
              "      <td>0.000000</td>\n",
              "      <td>0.000000</td>\n",
              "      <td>0.000000</td>\n",
              "      <td>0.000000</td>\n",
              "      <td>0.000000</td>\n",
              "    </tr>\n",
              "    <tr>\n",
              "      <th>25%</th>\n",
              "      <td>2.099330e+07</td>\n",
              "      <td>34.000000</td>\n",
              "      <td>2.000000</td>\n",
              "      <td>0.000000</td>\n",
              "      <td>0.000000</td>\n",
              "      <td>0.000000</td>\n",
              "      <td>0.000000</td>\n",
              "      <td>0.000000</td>\n",
              "      <td>0.000000</td>\n",
              "      <td>0.000000</td>\n",
              "    </tr>\n",
              "    <tr>\n",
              "      <th>50%</th>\n",
              "      <td>2.099997e+07</td>\n",
              "      <td>133.000000</td>\n",
              "      <td>2.000000</td>\n",
              "      <td>0.000000</td>\n",
              "      <td>0.000000</td>\n",
              "      <td>0.000000</td>\n",
              "      <td>0.000000</td>\n",
              "      <td>0.000000</td>\n",
              "      <td>1.000000</td>\n",
              "      <td>1.000000</td>\n",
              "    </tr>\n",
              "    <tr>\n",
              "      <th>75%</th>\n",
              "      <td>2.100664e+07</td>\n",
              "      <td>1026.000000</td>\n",
              "      <td>2.000000</td>\n",
              "      <td>0.000000</td>\n",
              "      <td>0.000000</td>\n",
              "      <td>0.000000</td>\n",
              "      <td>0.000000</td>\n",
              "      <td>0.000000</td>\n",
              "      <td>1.000000</td>\n",
              "      <td>1.000000</td>\n",
              "    </tr>\n",
              "    <tr>\n",
              "      <th>max</th>\n",
              "      <td>2.101330e+07</td>\n",
              "      <td>2123.000000</td>\n",
              "      <td>1291.000000</td>\n",
              "      <td>9.080000</td>\n",
              "      <td>20.220000</td>\n",
              "      <td>1.440000</td>\n",
              "      <td>2.460000</td>\n",
              "      <td>14.900000</td>\n",
              "      <td>1.000000</td>\n",
              "      <td>1.000000</td>\n",
              "    </tr>\n",
              "  </tbody>\n",
              "</table>\n",
              "</div>"
            ],
            "text/plain": [
              "          sample_no           pid  ...       cpu_num         label\n",
              "count  2.668000e+04  26680.000000  ...  26680.000000  26680.000000\n",
              "mean   2.099997e+07    491.385870  ...      0.689505      0.642654\n",
              "std    7.701997e+03    589.953581  ...      0.462705      0.479227\n",
              "min    2.098663e+07      1.000000  ...      0.000000      0.000000\n",
              "25%    2.099330e+07     34.000000  ...      0.000000      0.000000\n",
              "50%    2.099997e+07    133.000000  ...      1.000000      1.000000\n",
              "75%    2.100664e+07   1026.000000  ...      1.000000      1.000000\n",
              "max    2.101330e+07   2123.000000  ...      1.000000      1.000000\n",
              "\n",
              "[8 rows x 10 columns]"
            ]
          },
          "metadata": {
            "tags": []
          },
          "execution_count": 3
        }
      ]
    },
    {
      "cell_type": "code",
      "metadata": {
        "id": "M0ABAW3VJyjh"
      },
      "source": [
        "# dataframe ‘df’ is converted into numpy array ‘dataset’\n",
        "dataset = df.values"
      ],
      "execution_count": null,
      "outputs": []
    },
    {
      "cell_type": "code",
      "metadata": {
        "id": "eb1Vm8MBKikk"
      },
      "source": [
        "X = dataset[:,0:9]\n",
        "y = dataset[:,9].astype('int')"
      ],
      "execution_count": null,
      "outputs": []
    },
    {
      "cell_type": "code",
      "metadata": {
        "colab": {
          "base_uri": "https://localhost:8080/",
          "height": 402
        },
        "id": "MLEs32QqK9FD",
        "outputId": "9c115e1d-a353-491d-e39b-50c6d9345275"
      },
      "source": [
        "from sklearn.preprocessing import StandardScaler\n",
        "# Standardization\n",
        "a = StandardScaler()\n",
        "a.fit(X)\n",
        "X_standardized = a.transform(X)\n",
        "pd.DataFrame(X_standardized).describe()"
      ],
      "execution_count": null,
      "outputs": [
        {
          "output_type": "execute_result",
          "data": {
            "text/html": [
              "<div>\n",
              "<style scoped>\n",
              "    .dataframe tbody tr th:only-of-type {\n",
              "        vertical-align: middle;\n",
              "    }\n",
              "\n",
              "    .dataframe tbody tr th {\n",
              "        vertical-align: top;\n",
              "    }\n",
              "\n",
              "    .dataframe thead th {\n",
              "        text-align: right;\n",
              "    }\n",
              "</style>\n",
              "<table border=\"1\" class=\"dataframe\">\n",
              "  <thead>\n",
              "    <tr style=\"text-align: right;\">\n",
              "      <th></th>\n",
              "      <th>0</th>\n",
              "      <th>1</th>\n",
              "      <th>2</th>\n",
              "      <th>3</th>\n",
              "      <th>4</th>\n",
              "      <th>5</th>\n",
              "      <th>6</th>\n",
              "      <th>7</th>\n",
              "      <th>8</th>\n",
              "    </tr>\n",
              "  </thead>\n",
              "  <tbody>\n",
              "    <tr>\n",
              "      <th>count</th>\n",
              "      <td>2.668000e+04</td>\n",
              "      <td>2.668000e+04</td>\n",
              "      <td>2.668000e+04</td>\n",
              "      <td>2.668000e+04</td>\n",
              "      <td>2.668000e+04</td>\n",
              "      <td>2.668000e+04</td>\n",
              "      <td>2.668000e+04</td>\n",
              "      <td>2.668000e+04</td>\n",
              "      <td>2.668000e+04</td>\n",
              "    </tr>\n",
              "    <tr>\n",
              "      <th>mean</th>\n",
              "      <td>-2.456140e-16</td>\n",
              "      <td>7.809637e-16</td>\n",
              "      <td>1.054379e-15</td>\n",
              "      <td>-4.968789e-16</td>\n",
              "      <td>-3.450425e-16</td>\n",
              "      <td>4.243981e-16</td>\n",
              "      <td>4.287404e-16</td>\n",
              "      <td>-1.718004e-15</td>\n",
              "      <td>-4.777954e-16</td>\n",
              "    </tr>\n",
              "    <tr>\n",
              "      <th>std</th>\n",
              "      <td>1.000019e+00</td>\n",
              "      <td>1.000019e+00</td>\n",
              "      <td>1.000019e+00</td>\n",
              "      <td>1.000019e+00</td>\n",
              "      <td>1.000019e+00</td>\n",
              "      <td>1.000019e+00</td>\n",
              "      <td>1.000019e+00</td>\n",
              "      <td>1.000019e+00</td>\n",
              "      <td>1.000019e+00</td>\n",
              "    </tr>\n",
              "    <tr>\n",
              "      <th>min</th>\n",
              "      <td>-1.731986e+00</td>\n",
              "      <td>-8.312435e-01</td>\n",
              "      <td>-3.519283e-01</td>\n",
              "      <td>-7.935969e-02</td>\n",
              "      <td>-5.818699e-02</td>\n",
              "      <td>-2.769626e-01</td>\n",
              "      <td>-2.310786e-01</td>\n",
              "      <td>-2.772776e-01</td>\n",
              "      <td>-1.490190e+00</td>\n",
              "    </tr>\n",
              "    <tr>\n",
              "      <th>25%</th>\n",
              "      <td>-8.659929e-01</td>\n",
              "      <td>-7.753058e-01</td>\n",
              "      <td>-3.466643e-01</td>\n",
              "      <td>-7.935969e-02</td>\n",
              "      <td>-5.818699e-02</td>\n",
              "      <td>-2.769626e-01</td>\n",
              "      <td>-2.310786e-01</td>\n",
              "      <td>-2.772776e-01</td>\n",
              "      <td>-1.490190e+00</td>\n",
              "    </tr>\n",
              "    <tr>\n",
              "      <th>50%</th>\n",
              "      <td>0.000000e+00</td>\n",
              "      <td>-6.074929e-01</td>\n",
              "      <td>-3.466643e-01</td>\n",
              "      <td>-7.935969e-02</td>\n",
              "      <td>-5.818699e-02</td>\n",
              "      <td>-2.769626e-01</td>\n",
              "      <td>-2.310786e-01</td>\n",
              "      <td>-2.772776e-01</td>\n",
              "      <td>6.710554e-01</td>\n",
              "    </tr>\n",
              "    <tr>\n",
              "      <th>75%</th>\n",
              "      <td>8.659929e-01</td>\n",
              "      <td>9.062139e-01</td>\n",
              "      <td>-3.466643e-01</td>\n",
              "      <td>-7.935969e-02</td>\n",
              "      <td>-5.818699e-02</td>\n",
              "      <td>-2.769626e-01</td>\n",
              "      <td>-2.310786e-01</td>\n",
              "      <td>-2.772776e-01</td>\n",
              "      <td>6.710554e-01</td>\n",
              "    </tr>\n",
              "    <tr>\n",
              "      <th>max</th>\n",
              "      <td>1.731986e+00</td>\n",
              "      <td>2.765717e+00</td>\n",
              "      <td>3.045994e+00</td>\n",
              "      <td>3.521443e+01</td>\n",
              "      <td>3.614182e+01</td>\n",
              "      <td>1.146785e+01</td>\n",
              "      <td>2.855192e+01</td>\n",
              "      <td>1.009866e+01</td>\n",
              "      <td>6.710554e-01</td>\n",
              "    </tr>\n",
              "  </tbody>\n",
              "</table>\n",
              "</div>"
            ],
            "text/plain": [
              "                  0             1  ...             7             8\n",
              "count  2.668000e+04  2.668000e+04  ...  2.668000e+04  2.668000e+04\n",
              "mean  -2.456140e-16  7.809637e-16  ... -1.718004e-15 -4.777954e-16\n",
              "std    1.000019e+00  1.000019e+00  ...  1.000019e+00  1.000019e+00\n",
              "min   -1.731986e+00 -8.312435e-01  ... -2.772776e-01 -1.490190e+00\n",
              "25%   -8.659929e-01 -7.753058e-01  ... -2.772776e-01 -1.490190e+00\n",
              "50%    0.000000e+00 -6.074929e-01  ... -2.772776e-01  6.710554e-01\n",
              "75%    8.659929e-01  9.062139e-01  ... -2.772776e-01  6.710554e-01\n",
              "max    1.731986e+00  2.765717e+00  ...  1.009866e+01  6.710554e-01\n",
              "\n",
              "[8 rows x 9 columns]"
            ]
          },
          "metadata": {
            "tags": []
          },
          "execution_count": 6
        }
      ]
    },
    {
      "cell_type": "code",
      "metadata": {
        "id": "WW1nUQ47kj_w"
      },
      "source": [
        "import sklearn\n",
        "from sklearn.model_selection import train_test_split\n",
        "\n",
        "x_train, x_test, y_train, y_test = train_test_split(X_standardized, y, test_size=0.3,\n",
        "                                                    shuffle=True, random_state=201)"
      ],
      "execution_count": null,
      "outputs": []
    },
    {
      "cell_type": "code",
      "metadata": {
        "id": "Z0Nrp_6BLhY1"
      },
      "source": [
        "# Importing the necessary packages\n",
        "from sklearn.model_selection import GridSearchCV, KFold\n",
        "from keras.models import Sequential\n",
        "from keras.layers import Dense\n",
        "from keras.wrappers.scikit_learn import KerasClassifier\n",
        "from keras.optimizers import Adam\n",
        "from keras.layers import Dropout"
      ],
      "execution_count": null,
      "outputs": []
    },
    {
      "cell_type": "code",
      "metadata": {
        "id": "45pDGnO-MP2E"
      },
      "source": [
        "def create_model():\n",
        "  model = Sequential()\n",
        "  model.add(Dense(8,input_dim=9,kernel_initializer='normal',activation='relu'))\n",
        "  model.add(Dense(4,input_dim=9,kernel_initializer='normal',activation='relu'))\n",
        "  model.add(Dense(1,activation='sigmoid'))  \n",
        "  opt = Adam(lr=0.01)\n",
        "  model.compile(loss='binary_crossentropy', optimizer = opt, metrics = ['accuracy'])\n",
        "  return model"
      ],
      "execution_count": null,
      "outputs": []
    },
    {
      "cell_type": "code",
      "metadata": {
        "colab": {
          "base_uri": "https://localhost:8080/"
        },
        "id": "3a1fKM2UUjOp",
        "outputId": "2e485f24-0c42-4123-f34d-4f96693d388e"
      },
      "source": [
        "# Create the model\n",
        "model = KerasClassifier(build_fn = create_model,verbose = 0)\n",
        "# Define the grid search parameters\n",
        "batch_size = [10,20,40]\n",
        "epochs = [10,50,100]\n",
        "# Make a dictionary of the grid search parameters\n",
        "param_grid = dict(batch_size = batch_size,epochs = epochs)\n",
        "# Build and fit the GridSearchCV\n",
        "# grid = GridSearchCV(estimator = model,param_grid = param_grid, n_jobs=-1, cv = KFold(),verbose = 10)\n",
        "grid = GridSearchCV(estimator = model,param_grid = param_grid, n_jobs=-1, cv = 3,verbose = 1)\n",
        "grid_result = grid.fit(x_train,y_train)\n",
        "# Summarize the results\n",
        "print('Best : {}, using {}'.format(grid_result.best_score_,grid_result.best_params_))\n",
        "means = grid_result.cv_results_['mean_test_score']\n",
        "stds = grid_result.cv_results_['std_test_score']\n",
        "params = grid_result.cv_results_['params']\n",
        "for mean, stdev, param in zip(means, stds, params):\n",
        "  print('{},{} with: {}'.format(mean, stdev, param))"
      ],
      "execution_count": null,
      "outputs": [
        {
          "output_type": "stream",
          "text": [
            "Fitting 3 folds for each of 9 candidates, totalling 27 fits\n"
          ],
          "name": "stdout"
        },
        {
          "output_type": "stream",
          "text": [
            "[Parallel(n_jobs=-1)]: Using backend LokyBackend with 2 concurrent workers.\n",
            "[Parallel(n_jobs=-1)]: Done  27 out of  27 | elapsed: 11.9min finished\n"
          ],
          "name": "stderr"
        },
        {
          "output_type": "stream",
          "text": [
            "Best : 0.9979117512702942, using {'batch_size': 40, 'epochs': 100}\n",
            "0.9963054656982422,0.0014186856794914848 with: {'batch_size': 10, 'epochs': 10}\n",
            "0.9949669043223063,0.0022575240344140032 with: {'batch_size': 10, 'epochs': 50}\n",
            "0.9969479044278463,0.0008602393027959221 with: {'batch_size': 10, 'epochs': 100}\n",
            "0.9947526653607687,0.0010997608458007027 with: {'batch_size': 20, 'epochs': 10}\n",
            "0.9967873295148214,0.00022707327643549434 with: {'batch_size': 20, 'epochs': 50}\n",
            "0.9976975719134012,0.00015161626304318948 with: {'batch_size': 20, 'epochs': 100}\n",
            "0.9940564632415771,0.0015128926606873634 with: {'batch_size': 40, 'epochs': 10}\n",
            "0.9965730508168539,0.0014508221152350678 with: {'batch_size': 40, 'epochs': 50}\n",
            "0.9979117512702942,1.6858739404357614e-07 with: {'batch_size': 40, 'epochs': 100}\n"
          ],
          "name": "stdout"
        }
      ]
    },
    {
      "cell_type": "code",
      "metadata": {
        "colab": {
          "base_uri": "https://localhost:8080/"
        },
        "id": "pvIXrXWFTxZk",
        "outputId": "c22562b3-b1d4-44e7-b2e9-90ffd61fb9a6"
      },
      "source": [
        "from keras.layers import Dropout\n",
        "\n",
        "# Defining the model\n",
        "def create_model(learning_rate,dropout_rate):\n",
        "    model = Sequential()\n",
        "    model.add(Dense(8,input_dim = 9,kernel_initializer = 'normal',activation = 'relu'))\n",
        "    model.add(Dropout(dropout_rate))\n",
        "    model.add(Dense(4,input_dim = 9,kernel_initializer = 'normal',activation = 'relu'))\n",
        "    model.add(Dropout(dropout_rate))\n",
        "    model.add(Dense(1,activation = 'sigmoid'))    \n",
        "    opt = Adam(lr = learning_rate)\n",
        "    model.compile(loss = 'binary_crossentropy',optimizer = opt,metrics = ['accuracy'])\n",
        "    return model\n",
        "\n",
        "# Create the model\n",
        "model = KerasClassifier(build_fn = create_model,verbose = 0,batch_size = 40,epochs = 100)\n",
        "\n",
        "# Define the grid search parameters\n",
        "learning_rate = [0.001,0.01,0.1]\n",
        "dropout_rate = [0.0,0.1,0.2]\n",
        "\n",
        "# Make a dictionary of the grid search parameters\n",
        "param_grids = dict(learning_rate = learning_rate,dropout_rate = dropout_rate)\n",
        "\n",
        "# Build and fit the GridSearchCV\n",
        "grid = GridSearchCV(estimator = model,param_grid = param_grids,n_jobs=-1, cv = 3,verbose = 1)\n",
        "grid_result = grid.fit(x_train,y_train)\n",
        "\n",
        "# Summarize the results\n",
        "print('Best : {}, using {}'.format(grid_result.best_score_,grid_result.best_params_))\n",
        "means = grid_result.cv_results_['mean_test_score']\n",
        "stds = grid_result.cv_results_['std_test_score']\n",
        "params = grid_result.cv_results_['params']\n",
        "for mean, stdev, param in zip(means, stds, params):\n",
        "    print('{},{} with: {}'.format(mean, stdev, param))"
      ],
      "execution_count": null,
      "outputs": [
        {
          "output_type": "stream",
          "text": [
            "Fitting 3 folds for each of 9 candidates, totalling 27 fits\n"
          ],
          "name": "stdout"
        },
        {
          "output_type": "stream",
          "text": [
            "[Parallel(n_jobs=-1)]: Using backend LokyBackend with 2 concurrent workers.\n",
            "[Parallel(n_jobs=-1)]: Done  27 out of  27 | elapsed: 10.3min finished\n"
          ],
          "name": "stderr"
        },
        {
          "output_type": "stream",
          "text": [
            "Best : 0.9981794158617655, using {'dropout_rate': 0.1, 'learning_rate': 0.001}\n",
            "0.9978581865628561,0.0005915390058937029 with: {'dropout_rate': 0.0, 'learning_rate': 0.001}\n",
            "0.9978046814600626,0.00046062169795682686 with: {'dropout_rate': 0.0, 'learning_rate': 0.01}\n",
            "0.994377593199412,0.0029997340734133327 with: {'dropout_rate': 0.0, 'learning_rate': 0.1}\n",
            "0.9981794158617655,0.0009306061339277323 with: {'dropout_rate': 0.1, 'learning_rate': 0.001}\n",
            "0.9957700371742249,0.0015143363053152935 with: {'dropout_rate': 0.1, 'learning_rate': 0.01}\n",
            "0.9918077190717062,0.001821876360233577 with: {'dropout_rate': 0.1, 'learning_rate': 0.1}\n",
            "0.9973763028780619,0.00020047391367414438 with: {'dropout_rate': 0.2, 'learning_rate': 0.001}\n",
            "0.9960912267367045,0.0007686376514546763 with: {'dropout_rate': 0.2, 'learning_rate': 0.01}\n",
            "0.9838297367095947,0.008972820138129847 with: {'dropout_rate': 0.2, 'learning_rate': 0.1}\n"
          ],
          "name": "stdout"
        }
      ]
    },
    {
      "cell_type": "code",
      "metadata": {
        "colab": {
          "base_uri": "https://localhost:8080/"
        },
        "id": "uHCGTzGPHmvK",
        "outputId": "bc77f8db-6f3c-4c35-ca90-cdbf1e60d728"
      },
      "source": [
        "from sklearn.metrics import classification_report, accuracy_score\n",
        "from sklearn import metrics\n",
        "\n",
        "from sklearn.metrics import accuracy_score,precision_score,recall_score,f1_score\n",
        "\n",
        "# Define the model\n",
        "def create_model():\n",
        "    model = Sequential()\n",
        "    model.add(Dense(8,input_dim = 9,kernel_initializer = 'normal',activation = 'relu'))\n",
        "    model.add(Dropout(0.1))\n",
        "    model.add(Dense(4,input_dim = 9,kernel_initializer = 'normal',activation = 'relu'))\n",
        "    model.add(Dropout(0.1))\n",
        "    model.add(Dense(1,activation = 'sigmoid'))    \n",
        "    opt = Adam(lr = 0.001)\n",
        "    model.compile(loss = 'binary_crossentropy',optimizer = opt,metrics = ['accuracy'])\n",
        "    return model\n",
        "\n",
        "# Create the model\n",
        "model = KerasClassifier(build_fn = create_model,verbose = 0,batch_size = 40,epochs = 100)\n",
        "\n",
        "# Fitting the model\n",
        "model.fit(x_train,y_train)\n",
        "\n",
        "# Predicting using trained model\n",
        "y_predict = model.predict(x_test)\n",
        "#y_predict = np.argmax(model.predict(x_test), axis=-1)\n",
        "\n",
        "# Printing the metrics\n",
        "print(\"Accuracy:\",accuracy_score(y_test,y_predict))\n",
        "print ('Precision:', precision_score(y_test,y_predict))                                   \n",
        "print ('Recall:', recall_score(y_test,y_predict))\n",
        "print ('F1 score:', f1_score(y_test,y_predict))"
      ],
      "execution_count": null,
      "outputs": [
        {
          "output_type": "stream",
          "text": [
            "/usr/local/lib/python3.6/dist-packages/tensorflow/python/keras/engine/sequential.py:450: UserWarning: `model.predict_classes()` is deprecated and will be removed after 2021-01-01. Please use instead:* `np.argmax(model.predict(x), axis=-1)`,   if your model does multi-class classification   (e.g. if it uses a `softmax` last-layer activation).* `(model.predict(x) > 0.5).astype(\"int32\")`,   if your model does binary classification   (e.g. if it uses a `sigmoid` last-layer activation).\n",
            "  warnings.warn('`model.predict_classes()` is deprecated and '\n"
          ],
          "name": "stderr"
        },
        {
          "output_type": "stream",
          "text": [
            "Accuracy: 0.9988755622188905\n",
            "Precision: 0.9988329118848474\n",
            "Recall: 0.9994161152199299\n",
            "F1 score: 0.999124428446347\n"
          ],
          "name": "stdout"
        }
      ]
    },
    {
      "cell_type": "code",
      "metadata": {
        "colab": {
          "base_uri": "https://localhost:8080/"
        },
        "id": "GlJaENxjRZXW",
        "outputId": "7155bb6b-522b-4dae-9946-4426ae8940db"
      },
      "source": [
        "from sklearn.metrics import confusion_matrix\n",
        "print(confusion_matrix(y_test,y_predict))"
      ],
      "execution_count": null,
      "outputs": [
        {
          "output_type": "stream",
          "text": [
            "[[2860    6]\n",
            " [   3 5135]]\n"
          ],
          "name": "stdout"
        }
      ]
    },
    {
      "cell_type": "code",
      "metadata": {
        "colab": {
          "base_uri": "https://localhost:8080/",
          "height": 326
        },
        "id": "vUyejykNTbKW",
        "outputId": "c99a412c-de28-4b6c-b7d0-e7467837e2bd"
      },
      "source": [
        "from keras.models import Sequential\n",
        "from keras.layers import Dense\n",
        "from matplotlib import pyplot\n",
        "\n",
        "# define model\n",
        "model = Sequential()\n",
        "model.add(Dense(8,input_dim = 9,kernel_initializer = 'normal',activation = 'relu'))\n",
        "model.add(Dropout(0.1))\n",
        "model.add(Dense(4,input_dim = 9,kernel_initializer = 'normal',activation = 'relu'))\n",
        "model.add(Dropout(0.1))\n",
        "model.add(Dense(1,activation = 'sigmoid'))  \n",
        "# compile model\n",
        "opt = Adam(lr = 0.001)\n",
        "model.compile(loss ='binary_crossentropy',optimizer = opt,metrics = ['accuracy'])\n",
        "# fit model\n",
        "history = model.fit(x_train, y_train, validation_data=(x_test, y_test), batch_size = 40,epochs = 100, verbose=0)\n",
        "# evaluate the model\n",
        "_, train_acc = model.evaluate(x_train, y_train, verbose=0)\n",
        "_, test_acc = model.evaluate(x_test, y_test, verbose=0)\n",
        "print('Train: %.3f, Test: %.3f' % (train_acc, test_acc))\n",
        "# plot loss during training\n",
        "pyplot.subplot(211)\n",
        "pyplot.title('Loss')\n",
        "pyplot.plot(history.history['loss'], label='train')\n",
        "pyplot.plot(history.history['val_loss'], label='test')\n",
        "pyplot.legend()\n",
        "pyplot.show()\n",
        "# plot accuracy during training\n",
        "pyplot.subplot(212)\n",
        "pyplot.title('Accuracy')\n",
        "pyplot.plot(history.history['accuracy'], label='train')\n",
        "pyplot.plot(history.history['val_accuracy'], label='test')\n",
        "pyplot.legend()\n",
        "pyplot.show()"
      ],
      "execution_count": null,
      "outputs": [
        {
          "output_type": "stream",
          "text": [
            "Train: 0.999, Test: 0.999\n"
          ],
          "name": "stdout"
        },
        {
          "output_type": "display_data",
          "data": {
            "image/png": "[encoded data removed]",
            "text/plain": [
              "<Figure size 432x288 with 1 Axes>"
            ]
          },
          "metadata": {
            "tags": [],
            "needs_background": "light"
          }
        },
        {
          "output_type": "display_data",
          "data": {
            "image/png": "[encoded data removed]",
            "text/plain": [
              "<Figure size 432x288 with 1 Axes>"
            ]
          },
          "metadata": {
            "tags": [],
            "needs_background": "light"
          }
        }
      ]
    },
    {
      "cell_type": "code",
      "metadata": {
        "colab": {
          "base_uri": "https://localhost:8080/",
          "height": 590
        },
        "id": "N7mCXI5UePXo",
        "outputId": "ac19b807-d795-44bb-a7a7-98875e49eccf"
      },
      "source": [
        "# Visualize training history\n",
        "from keras.models import Sequential\n",
        "from keras.layers import Dense\n",
        "import matplotlib.pyplot as plt\n",
        "import numpy\n",
        "\n",
        "# create model\n",
        "model = Sequential()\n",
        "model.add(Dense(8,input_dim = 9,kernel_initializer = 'normal',activation = 'relu'))\n",
        "model.add(Dropout(0.1))\n",
        "model.add(Dense(4,input_dim = 9,kernel_initializer = 'normal',activation = 'relu'))\n",
        "model.add(Dropout(0.1))\n",
        "model.add(Dense(1,activation = 'sigmoid'))  \n",
        "# compile model\n",
        "opt = Adam(lr = 0.001)\n",
        "model.compile(loss ='binary_crossentropy',optimizer = opt,metrics = ['accuracy'])\n",
        "# Fit the model\n",
        "history = model.fit(X_standardized, y, validation_split=0.30, batch_size = 40,epochs = 100, verbose=0)\n",
        "# list all data in history\n",
        "print(history.history.keys())\n",
        "# summarize history for accuracy\n",
        "plt.plot(history.history['accuracy'])\n",
        "plt.plot(history.history['val_accuracy'])\n",
        "plt.title('model accuracy')\n",
        "plt.ylabel('accuracy')\n",
        "plt.xlabel('epoch')\n",
        "plt.legend(['train', 'test'], loc='upper left')\n",
        "plt.show()\n",
        "# summarize history for loss\n",
        "plt.plot(history.history['loss'])\n",
        "plt.plot(history.history['val_loss'])\n",
        "plt.title('model loss')\n",
        "plt.ylabel('loss')\n",
        "plt.xlabel('epoch')\n",
        "plt.legend(['train', 'test'], loc='upper left')\n",
        "plt.show()"
      ],
      "execution_count": null,
      "outputs": [
        {
          "output_type": "stream",
          "text": [
            "dict_keys(['loss', 'accuracy', 'val_loss', 'val_accuracy'])\n"
          ],
          "name": "stdout"
        },
        {
          "output_type": "display_data",
          "data": {
            "image/png": "[encoded data removed]",
            "text/plain": [
              "<Figure size 432x288 with 1 Axes>"
            ]
          },
          "metadata": {
            "tags": [],
            "needs_background": "light"
          }
        },
        {
          "output_type": "display_data",
          "data": {
            "image/png": "[encoded data removed]",
            "text/plain": [
              "<Figure size 432x288 with 1 Axes>"
            ]
          },
          "metadata": {
            "tags": [],
            "needs_background": "light"
          }
        }
      ]
    },
    {
      "cell_type": "code",
      "metadata": {
        "colab": {
          "base_uri": "https://localhost:8080/",
          "height": 562
        },
        "id": "Bn1dK0EAgCut",
        "outputId": "c4dc4e46-3119-4cab-d881-a17a1d4801e2"
      },
      "source": [
        "from keras.models import Sequential\n",
        "from keras.layers import Dense\n",
        "from matplotlib import pyplot\n",
        "import matplotlib.pyplot as plt\n",
        "\n",
        "# define model\n",
        "model = Sequential()\n",
        "model.add(Dense(8,input_dim = 9,kernel_initializer = 'normal',activation = 'relu'))\n",
        "model.add(Dropout(0.1))\n",
        "model.add(Dense(4,input_dim = 9,kernel_initializer = 'normal',activation = 'relu'))\n",
        "model.add(Dropout(0.1))\n",
        "model.add(Dense(1,activation = 'sigmoid'))  \n",
        "# compile model\n",
        "opt = Adam(lr = 0.001)\n",
        "model.compile(loss ='binary_crossentropy',optimizer = opt,metrics = ['accuracy'])\n",
        "# fit model\n",
        "history = model.fit(x_train, y_train, validation_data=(x_test, y_test), batch_size = 40,epochs = 100, verbose=0)\n",
        "# evaluate the model\n",
        "_, train_acc = model.evaluate(x_train, y_train, verbose=0)\n",
        "_, test_acc = model.evaluate(x_test, y_test, verbose=0)\n",
        "print('Train: %.3f, Test: %.3f' % (train_acc, test_acc))\n",
        "# plot loss during training\n",
        "#pyplot.subplot(211)\n",
        "plt.title('Loss')\n",
        "plt.plot(history.history['loss'], label='train')\n",
        "plt.plot(history.history['val_loss'], label='test')\n",
        "plt.legend()\n",
        "plt.show()\n",
        "# plot accuracy during training\n",
        "#pyplot.subplot(212)\n",
        "plt.title('Accuracy')\n",
        "plt.plot(history.history['accuracy'], label='train')\n",
        "plt.plot(history.history['val_accuracy'], label='test')\n",
        "plt.legend()\n",
        "plt.show()"
      ],
      "execution_count": null,
      "outputs": [
        {
          "output_type": "stream",
          "text": [
            "Train: 0.999, Test: 0.999\n"
          ],
          "name": "stdout"
        },
        {
          "output_type": "display_data",
          "data": {
            "image/png": "[encoded data removed]",
            "text/plain": [
              "<Figure size 432x288 with 1 Axes>"
            ]
          },
          "metadata": {
            "tags": [],
            "needs_background": "light"
          }
        },
        {
          "output_type": "display_data",
          "data": {
            "image/png": "[encoded data removed]",
            "text/plain": [
              "<Figure size 432x288 with 1 Axes>"
            ]
          },
          "metadata": {
            "tags": [],
            "needs_background": "light"
          }
        }
      ]
    }
  ]
}